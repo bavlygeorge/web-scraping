{
 "cells": [
  {
   "cell_type": "code",
   "execution_count": 1,
   "id": "b6509acc",
   "metadata": {},
   "outputs": [],
   "source": [
    "from selenium import webdriver\n",
    "from selenium.webdriver.common.keys import Keys\n",
    "from selenium.webdriver import ActionChains\n",
    "import pandas as pd\n",
    "import time\n",
    "\n",
    "driver = webdriver.Firefox()\n",
    "driver.get('https://www.amazon.com/s?k=amazonbasics&i=garden&rh=n%3A1055398%2Cp_36%3A1253523011&dc&qid=1621814072&rnid=386465011&ref=sr_pg_1')"
   ]
  },
  {
   "cell_type": "code",
   "execution_count": 2,
   "id": "b81b49e5",
   "metadata": {},
   "outputs": [
    {
     "name": "stdout",
     "output_type": "stream",
     "text": [
      "items loaded from page 0\n",
      "items loaded from page 1\n",
      "items loaded from page 2\n",
      "items loaded from page 3\n",
      "items loaded from page 4\n",
      "items loaded from page 5\n",
      "items loaded from page 6\n",
      "items loaded from page 7\n",
      "items loaded from page 8\n",
      "items loaded from page 9\n",
      "items loaded from page 10\n",
      "items loaded from page 11\n",
      "items loaded from page 12\n",
      "items loaded from page 13\n",
      "items loaded from page 14\n",
      "items loaded from page 15\n",
      "items loaded from page 16\n",
      "items loaded from page 17\n"
     ]
    }
   ],
   "source": [
    "products_list = []\n",
    "price_whole_list = []\n",
    "price_fraction_list = []\n",
    "i=0\n",
    "\n",
    "while i<=20:\n",
    "    try:\n",
    "        products = driver.find_elements_by_xpath('//span[@class=\"a-size-base-plus a-color-base a-text-normal\"]')\n",
    "        price_whole = driver.find_elements_by_xpath('//span[@class=\"a-price-whole\"]')\n",
    "        price_fraction = driver.find_elements_by_xpath('//span[@class=\"a-price-fraction\"]')\n",
    "\n",
    "        for p in range(len(products)):\n",
    "            products_list.append(products[p].text)\n",
    "\n",
    "        for p in range(len(price_whole)):\n",
    "            price_whole_list.append(price_whole[p].text)\n",
    "\n",
    "        for p in range(len(price_fraction)):\n",
    "            price_fraction_list.append(price_fraction[p].text)\n",
    "        \n",
    "        driver.find_element_by_xpath('//li[@class=\"a-last\"]').click()\n",
    "        time.sleep(10)\n",
    "        print(f'items loaded from page {i}')\n",
    "        i+=1\n",
    "    except:\n",
    "        break"
   ]
  },
  {
   "cell_type": "code",
   "execution_count": 3,
   "id": "7b2d6e03",
   "metadata": {
    "scrolled": true
   },
   "outputs": [
    {
     "name": "stdout",
     "output_type": "stream",
     "text": [
      "loaded 18 pages\n"
     ]
    }
   ],
   "source": [
    "print(f'loaded {i} pages')"
   ]
  },
  {
   "cell_type": "code",
   "execution_count": 4,
   "id": "c9ca55b7",
   "metadata": {},
   "outputs": [],
   "source": [
    "driver.close()"
   ]
  },
  {
   "cell_type": "code",
   "execution_count": 5,
   "id": "6acfbc3b",
   "metadata": {},
   "outputs": [
    {
     "name": "stdout",
     "output_type": "stream",
     "text": [
      "549\n"
     ]
    }
   ],
   "source": [
    "price_total_list = []\n",
    "for p in range(len(price_whole_list)):\n",
    "    price_total_list.append(price_whole_list[p]+'.'+price_fraction_list[p])\n",
    "print(len(price_total_list))"
   ]
  },
  {
   "cell_type": "code",
   "execution_count": 6,
   "id": "67ce1bfe",
   "metadata": {},
   "outputs": [
    {
     "data": {
      "text/html": [
       "<div>\n",
       "<style scoped>\n",
       "    .dataframe tbody tr th:only-of-type {\n",
       "        vertical-align: middle;\n",
       "    }\n",
       "\n",
       "    .dataframe tbody tr th {\n",
       "        vertical-align: top;\n",
       "    }\n",
       "\n",
       "    .dataframe thead th {\n",
       "        text-align: right;\n",
       "    }\n",
       "</style>\n",
       "<table border=\"1\" class=\"dataframe\">\n",
       "  <thead>\n",
       "    <tr style=\"text-align: right;\">\n",
       "      <th></th>\n",
       "      <th>Product</th>\n",
       "      <th>Price</th>\n",
       "    </tr>\n",
       "  </thead>\n",
       "  <tbody>\n",
       "    <tr>\n",
       "      <th>0</th>\n",
       "      <td>Amazon Basics 5-Shelf Adjustable, Heavy Duty S...</td>\n",
       "      <td>68.76</td>\n",
       "    </tr>\n",
       "    <tr>\n",
       "      <th>1</th>\n",
       "      <td>Amazon Basics Slim, Velvet, Non-Slip Suit Clot...</td>\n",
       "      <td>23.99</td>\n",
       "    </tr>\n",
       "    <tr>\n",
       "      <th>2</th>\n",
       "      <td>Amazon Basics 14-Piece Kitchen Knife Set with ...</td>\n",
       "      <td>4.48</td>\n",
       "    </tr>\n",
       "    <tr>\n",
       "      <th>3</th>\n",
       "      <td>Amazon Basics Heavy Duty Sponges, 6-Pack</td>\n",
       "      <td>4.59</td>\n",
       "    </tr>\n",
       "    <tr>\n",
       "      <th>4</th>\n",
       "      <td>Amazon Basics Silicone Hot Skillet Handle Cove...</td>\n",
       "      <td>18.23</td>\n",
       "    </tr>\n",
       "  </tbody>\n",
       "</table>\n",
       "</div>"
      ],
      "text/plain": [
       "                                             Product  Price\n",
       "0  Amazon Basics 5-Shelf Adjustable, Heavy Duty S...  68.76\n",
       "1  Amazon Basics Slim, Velvet, Non-Slip Suit Clot...  23.99\n",
       "2  Amazon Basics 14-Piece Kitchen Knife Set with ...   4.48\n",
       "3           Amazon Basics Heavy Duty Sponges, 6-Pack   4.59\n",
       "4  Amazon Basics Silicone Hot Skillet Handle Cove...  18.23"
      ]
     },
     "execution_count": 6,
     "metadata": {},
     "output_type": "execute_result"
    }
   ],
   "source": [
    "df = pd.DataFrame(columns=['Product','Price'])\n",
    "\n",
    "data_tuples = list(zip(products_list[1:],price_total_list[1:])) # list of each players name and salary paired together\n",
    "temp_df = pd.DataFrame(data_tuples, columns=['Product','Price']) # creates dataframe of each tuple in list\n",
    "df = df.append(temp_df) # appends to master dataframe\n",
    "\n",
    "df.head()"
   ]
  },
  {
   "cell_type": "code",
   "execution_count": 7,
   "id": "6d2ec403",
   "metadata": {},
   "outputs": [],
   "source": [
    "df.to_csv('amazon_basics.csv')"
   ]
  },
  {
   "cell_type": "code",
   "execution_count": null,
   "id": "ceb2b272",
   "metadata": {},
   "outputs": [],
   "source": []
  }
 ],
 "metadata": {
  "kernelspec": {
   "display_name": "Python 3",
   "language": "python",
   "name": "python3"
  },
  "language_info": {
   "codemirror_mode": {
    "name": "ipython",
    "version": 3
   },
   "file_extension": ".py",
   "mimetype": "text/x-python",
   "name": "python",
   "nbconvert_exporter": "python",
   "pygments_lexer": "ipython3",
   "version": "3.8.8"
  }
 },
 "nbformat": 4,
 "nbformat_minor": 5
}
